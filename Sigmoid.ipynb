\begin{aligned}
\sigma (\bold{x}) =  \frac{\mathrm{1} }{\mathrm{1} + e^{-\bold{x}} }
\end{aligned}
